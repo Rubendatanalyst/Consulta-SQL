{
 "cells": [
  {
   "cell_type": "markdown",
   "metadata": {},
   "source": [
    "---"
   ]
  },
  {
   "cell_type": "code",
   "execution_count": null,
   "metadata": {
    "scrolled": false
   },
   "outputs": [
    {
     "data": {
      "text/html": [
       "<div>\n",
       "<style scoped>\n",
       "    .dataframe tbody tr th:only-of-type {\n",
       "        vertical-align: middle;\n",
       "    }\n",
       "\n",
       "    .dataframe tbody tr th {\n",
       "        vertical-align: top;\n",
       "    }\n",
       "\n",
       "    .dataframe thead th {\n",
       "        text-align: right;\n",
       "    }\n",
       "</style>\n",
       "<table border=\"1\" class=\"dataframe\">\n",
       "  <thead>\n",
       "    <tr style=\"text-align: right;\">\n",
       "      <th></th>\n",
       "      <th>book_id</th>\n",
       "      <th>author_id</th>\n",
       "      <th>title</th>\n",
       "      <th>num_pages</th>\n",
       "      <th>publication_date</th>\n",
       "      <th>publisher_id</th>\n",
       "    </tr>\n",
       "  </thead>\n",
       "  <tbody>\n",
       "    <tr>\n",
       "      <th>0</th>\n",
       "      <td>1</td>\n",
       "      <td>546</td>\n",
       "      <td>'Salem's Lot</td>\n",
       "      <td>594</td>\n",
       "      <td>2005-11-01</td>\n",
       "      <td>93</td>\n",
       "    </tr>\n",
       "    <tr>\n",
       "      <th>1</th>\n",
       "      <td>2</td>\n",
       "      <td>465</td>\n",
       "      <td>1 000 Places to See Before You Die</td>\n",
       "      <td>992</td>\n",
       "      <td>2003-05-22</td>\n",
       "      <td>336</td>\n",
       "    </tr>\n",
       "    <tr>\n",
       "      <th>2</th>\n",
       "      <td>3</td>\n",
       "      <td>407</td>\n",
       "      <td>13 Little Blue Envelopes (Little Blue Envelope...</td>\n",
       "      <td>322</td>\n",
       "      <td>2010-12-21</td>\n",
       "      <td>135</td>\n",
       "    </tr>\n",
       "    <tr>\n",
       "      <th>3</th>\n",
       "      <td>4</td>\n",
       "      <td>82</td>\n",
       "      <td>1491: New Revelations of the Americas Before C...</td>\n",
       "      <td>541</td>\n",
       "      <td>2006-10-10</td>\n",
       "      <td>309</td>\n",
       "    </tr>\n",
       "    <tr>\n",
       "      <th>4</th>\n",
       "      <td>5</td>\n",
       "      <td>125</td>\n",
       "      <td>1776</td>\n",
       "      <td>386</td>\n",
       "      <td>2006-07-04</td>\n",
       "      <td>268</td>\n",
       "    </tr>\n",
       "    <tr>\n",
       "      <th>...</th>\n",
       "      <td>...</td>\n",
       "      <td>...</td>\n",
       "      <td>...</td>\n",
       "      <td>...</td>\n",
       "      <td>...</td>\n",
       "      <td>...</td>\n",
       "    </tr>\n",
       "    <tr>\n",
       "      <th>995</th>\n",
       "      <td>996</td>\n",
       "      <td>571</td>\n",
       "      <td>Wyrd Sisters (Discworld  #6; Witches #2)</td>\n",
       "      <td>265</td>\n",
       "      <td>2001-02-06</td>\n",
       "      <td>147</td>\n",
       "    </tr>\n",
       "    <tr>\n",
       "      <th>996</th>\n",
       "      <td>997</td>\n",
       "      <td>454</td>\n",
       "      <td>Xenocide (Ender's Saga  #3)</td>\n",
       "      <td>592</td>\n",
       "      <td>1996-07-15</td>\n",
       "      <td>297</td>\n",
       "    </tr>\n",
       "    <tr>\n",
       "      <th>997</th>\n",
       "      <td>998</td>\n",
       "      <td>201</td>\n",
       "      <td>Year of Wonders</td>\n",
       "      <td>358</td>\n",
       "      <td>2002-04-30</td>\n",
       "      <td>212</td>\n",
       "    </tr>\n",
       "    <tr>\n",
       "      <th>998</th>\n",
       "      <td>999</td>\n",
       "      <td>94</td>\n",
       "      <td>You Suck (A Love Story  #2)</td>\n",
       "      <td>328</td>\n",
       "      <td>2007-01-16</td>\n",
       "      <td>331</td>\n",
       "    </tr>\n",
       "    <tr>\n",
       "      <th>999</th>\n",
       "      <td>1000</td>\n",
       "      <td>509</td>\n",
       "      <td>Zen and the Art of Motorcycle Maintenance: An ...</td>\n",
       "      <td>540</td>\n",
       "      <td>2006-04-25</td>\n",
       "      <td>143</td>\n",
       "    </tr>\n",
       "  </tbody>\n",
       "</table>\n",
       "<p>1000 rows × 6 columns</p>\n",
       "</div>"
      ],
      "text/plain": [
       "     book_id  author_id                                              title  \\\n",
       "0          1        546                                       'Salem's Lot   \n",
       "1          2        465                 1 000 Places to See Before You Die   \n",
       "2          3        407  13 Little Blue Envelopes (Little Blue Envelope...   \n",
       "3          4         82  1491: New Revelations of the Americas Before C...   \n",
       "4          5        125                                               1776   \n",
       "..       ...        ...                                                ...   \n",
       "995      996        571           Wyrd Sisters (Discworld  #6; Witches #2)   \n",
       "996      997        454                        Xenocide (Ender's Saga  #3)   \n",
       "997      998        201                                    Year of Wonders   \n",
       "998      999         94                        You Suck (A Love Story  #2)   \n",
       "999     1000        509  Zen and the Art of Motorcycle Maintenance: An ...   \n",
       "\n",
       "     num_pages publication_date  publisher_id  \n",
       "0          594       2005-11-01            93  \n",
       "1          992       2003-05-22           336  \n",
       "2          322       2010-12-21           135  \n",
       "3          541       2006-10-10           309  \n",
       "4          386       2006-07-04           268  \n",
       "..         ...              ...           ...  \n",
       "995        265       2001-02-06           147  \n",
       "996        592       1996-07-15           297  \n",
       "997        358       2002-04-30           212  \n",
       "998        328       2007-01-16           331  \n",
       "999        540       2006-04-25           143  \n",
       "\n",
       "[1000 rows x 6 columns]"
      ]
     },
     "execution_count": 1,
     "metadata": {},
     "output_type": "execute_result"
    }
   ],
   "source": [
    "# import libraries\n",
    "import pandas as pd\n",
    "from sqlalchemy import create_engine\n",
    "\n",
    "db_config = {\n",
    "'user': 'practicum_student', # username\n",
    "'pwd': 'QnmDH8Sc2TQLvy2G3Vvh7', # password\n",
    "'host': 'yp-trainers-practicum.cluster-czs0gxyx2d8w.us-east-1.rds.amazonaws.com',\n",
    "'port': 5432, # connection port\n",
    "'db': 'data-analyst-final-project-db' # the name of the database\n",
    "}\n",
    "connection_string = 'postgresql://{}:{}@{}:{}/{}'.format(db_config['user'],\n",
    "db_config['pwd'],\n",
    "db_config['host'],\n",
    "db_config['port'],\n",
    "db_config['db'])\n",
    "\n",
    "engine = create_engine(connection_string, connect_args={'sslmode':'require'})\n",
    "\n",
    "query='''\n",
    "SELECT *\n",
    "FROM books\n",
    "'''\n",
    "\n",
    "pd.io.sql.read_sql(query, con = engine)\n",
    "\n"
   ]
  },
  {
   "cell_type": "code",
   "execution_count": 2,
   "metadata": {},
   "outputs": [
    {
     "data": {
      "text/html": [
       "<div>\n",
       "<style scoped>\n",
       "    .dataframe tbody tr th:only-of-type {\n",
       "        vertical-align: middle;\n",
       "    }\n",
       "\n",
       "    .dataframe tbody tr th {\n",
       "        vertical-align: top;\n",
       "    }\n",
       "\n",
       "    .dataframe thead th {\n",
       "        text-align: right;\n",
       "    }\n",
       "</style>\n",
       "<table border=\"1\" class=\"dataframe\">\n",
       "  <thead>\n",
       "    <tr style=\"text-align: right;\">\n",
       "      <th></th>\n",
       "      <th>author_id</th>\n",
       "      <th>author</th>\n",
       "    </tr>\n",
       "  </thead>\n",
       "  <tbody>\n",
       "    <tr>\n",
       "      <th>0</th>\n",
       "      <td>1</td>\n",
       "      <td>A.S. Byatt</td>\n",
       "    </tr>\n",
       "    <tr>\n",
       "      <th>1</th>\n",
       "      <td>2</td>\n",
       "      <td>Aesop/Laura Harris/Laura Gibbs</td>\n",
       "    </tr>\n",
       "    <tr>\n",
       "      <th>2</th>\n",
       "      <td>3</td>\n",
       "      <td>Agatha Christie</td>\n",
       "    </tr>\n",
       "    <tr>\n",
       "      <th>3</th>\n",
       "      <td>4</td>\n",
       "      <td>Alan Brennert</td>\n",
       "    </tr>\n",
       "    <tr>\n",
       "      <th>4</th>\n",
       "      <td>5</td>\n",
       "      <td>Alan Moore/David   Lloyd</td>\n",
       "    </tr>\n",
       "    <tr>\n",
       "      <th>...</th>\n",
       "      <td>...</td>\n",
       "      <td>...</td>\n",
       "    </tr>\n",
       "    <tr>\n",
       "      <th>631</th>\n",
       "      <td>632</td>\n",
       "      <td>William Strunk Jr./E.B. White</td>\n",
       "    </tr>\n",
       "    <tr>\n",
       "      <th>632</th>\n",
       "      <td>633</td>\n",
       "      <td>Zadie Smith</td>\n",
       "    </tr>\n",
       "    <tr>\n",
       "      <th>633</th>\n",
       "      <td>634</td>\n",
       "      <td>Zilpha Keatley Snyder</td>\n",
       "    </tr>\n",
       "    <tr>\n",
       "      <th>634</th>\n",
       "      <td>635</td>\n",
       "      <td>Zora Neale Hurston</td>\n",
       "    </tr>\n",
       "    <tr>\n",
       "      <th>635</th>\n",
       "      <td>636</td>\n",
       "      <td>Åsne Seierstad/Ingrid Christopherson</td>\n",
       "    </tr>\n",
       "  </tbody>\n",
       "</table>\n",
       "<p>636 rows × 2 columns</p>\n",
       "</div>"
      ],
      "text/plain": [
       "     author_id                                author\n",
       "0            1                            A.S. Byatt\n",
       "1            2        Aesop/Laura Harris/Laura Gibbs\n",
       "2            3                       Agatha Christie\n",
       "3            4                         Alan Brennert\n",
       "4            5              Alan Moore/David   Lloyd\n",
       "..         ...                                   ...\n",
       "631        632         William Strunk Jr./E.B. White\n",
       "632        633                           Zadie Smith\n",
       "633        634                 Zilpha Keatley Snyder\n",
       "634        635                    Zora Neale Hurston\n",
       "635        636  Åsne Seierstad/Ingrid Christopherson\n",
       "\n",
       "[636 rows x 2 columns]"
      ]
     },
     "execution_count": 2,
     "metadata": {},
     "output_type": "execute_result"
    }
   ],
   "source": [
    "query='''\n",
    "SELECT *\n",
    "FROM authors\n",
    "'''\n",
    "\n",
    "pd.io.sql.read_sql(query, con = engine)\n"
   ]
  },
  {
   "cell_type": "code",
   "execution_count": 3,
   "metadata": {},
   "outputs": [
    {
     "data": {
      "text/html": [
       "<div>\n",
       "<style scoped>\n",
       "    .dataframe tbody tr th:only-of-type {\n",
       "        vertical-align: middle;\n",
       "    }\n",
       "\n",
       "    .dataframe tbody tr th {\n",
       "        vertical-align: top;\n",
       "    }\n",
       "\n",
       "    .dataframe thead th {\n",
       "        text-align: right;\n",
       "    }\n",
       "</style>\n",
       "<table border=\"1\" class=\"dataframe\">\n",
       "  <thead>\n",
       "    <tr style=\"text-align: right;\">\n",
       "      <th></th>\n",
       "      <th>rating_id</th>\n",
       "      <th>book_id</th>\n",
       "      <th>username</th>\n",
       "      <th>rating</th>\n",
       "    </tr>\n",
       "  </thead>\n",
       "  <tbody>\n",
       "    <tr>\n",
       "      <th>0</th>\n",
       "      <td>1</td>\n",
       "      <td>1</td>\n",
       "      <td>ryanfranco</td>\n",
       "      <td>4</td>\n",
       "    </tr>\n",
       "    <tr>\n",
       "      <th>1</th>\n",
       "      <td>2</td>\n",
       "      <td>1</td>\n",
       "      <td>grantpatricia</td>\n",
       "      <td>2</td>\n",
       "    </tr>\n",
       "    <tr>\n",
       "      <th>2</th>\n",
       "      <td>3</td>\n",
       "      <td>1</td>\n",
       "      <td>brandtandrea</td>\n",
       "      <td>5</td>\n",
       "    </tr>\n",
       "    <tr>\n",
       "      <th>3</th>\n",
       "      <td>4</td>\n",
       "      <td>2</td>\n",
       "      <td>lorichen</td>\n",
       "      <td>3</td>\n",
       "    </tr>\n",
       "    <tr>\n",
       "      <th>4</th>\n",
       "      <td>5</td>\n",
       "      <td>2</td>\n",
       "      <td>mariokeller</td>\n",
       "      <td>2</td>\n",
       "    </tr>\n",
       "    <tr>\n",
       "      <th>...</th>\n",
       "      <td>...</td>\n",
       "      <td>...</td>\n",
       "      <td>...</td>\n",
       "      <td>...</td>\n",
       "    </tr>\n",
       "    <tr>\n",
       "      <th>6451</th>\n",
       "      <td>6452</td>\n",
       "      <td>1000</td>\n",
       "      <td>carolrodriguez</td>\n",
       "      <td>4</td>\n",
       "    </tr>\n",
       "    <tr>\n",
       "      <th>6452</th>\n",
       "      <td>6453</td>\n",
       "      <td>1000</td>\n",
       "      <td>wendy18</td>\n",
       "      <td>4</td>\n",
       "    </tr>\n",
       "    <tr>\n",
       "      <th>6453</th>\n",
       "      <td>6454</td>\n",
       "      <td>1000</td>\n",
       "      <td>jarvispaul</td>\n",
       "      <td>5</td>\n",
       "    </tr>\n",
       "    <tr>\n",
       "      <th>6454</th>\n",
       "      <td>6455</td>\n",
       "      <td>1000</td>\n",
       "      <td>zross</td>\n",
       "      <td>2</td>\n",
       "    </tr>\n",
       "    <tr>\n",
       "      <th>6455</th>\n",
       "      <td>6456</td>\n",
       "      <td>1000</td>\n",
       "      <td>fharris</td>\n",
       "      <td>5</td>\n",
       "    </tr>\n",
       "  </tbody>\n",
       "</table>\n",
       "<p>6456 rows × 4 columns</p>\n",
       "</div>"
      ],
      "text/plain": [
       "      rating_id  book_id        username  rating\n",
       "0             1        1      ryanfranco       4\n",
       "1             2        1   grantpatricia       2\n",
       "2             3        1    brandtandrea       5\n",
       "3             4        2        lorichen       3\n",
       "4             5        2     mariokeller       2\n",
       "...         ...      ...             ...     ...\n",
       "6451       6452     1000  carolrodriguez       4\n",
       "6452       6453     1000         wendy18       4\n",
       "6453       6454     1000      jarvispaul       5\n",
       "6454       6455     1000           zross       2\n",
       "6455       6456     1000         fharris       5\n",
       "\n",
       "[6456 rows x 4 columns]"
      ]
     },
     "execution_count": 3,
     "metadata": {},
     "output_type": "execute_result"
    }
   ],
   "source": [
    "query='''\n",
    "SELECT *\n",
    "FROM ratings\n",
    "'''\n",
    "\n",
    "pd.io.sql.read_sql(query, con = engine)\n"
   ]
  },
  {
   "cell_type": "code",
   "execution_count": 4,
   "metadata": {},
   "outputs": [
    {
     "data": {
      "text/html": [
       "<div>\n",
       "<style scoped>\n",
       "    .dataframe tbody tr th:only-of-type {\n",
       "        vertical-align: middle;\n",
       "    }\n",
       "\n",
       "    .dataframe tbody tr th {\n",
       "        vertical-align: top;\n",
       "    }\n",
       "\n",
       "    .dataframe thead th {\n",
       "        text-align: right;\n",
       "    }\n",
       "</style>\n",
       "<table border=\"1\" class=\"dataframe\">\n",
       "  <thead>\n",
       "    <tr style=\"text-align: right;\">\n",
       "      <th></th>\n",
       "      <th>review_id</th>\n",
       "      <th>book_id</th>\n",
       "      <th>username</th>\n",
       "      <th>text</th>\n",
       "    </tr>\n",
       "  </thead>\n",
       "  <tbody>\n",
       "    <tr>\n",
       "      <th>0</th>\n",
       "      <td>1</td>\n",
       "      <td>1</td>\n",
       "      <td>brandtandrea</td>\n",
       "      <td>Mention society tell send professor analysis. ...</td>\n",
       "    </tr>\n",
       "    <tr>\n",
       "      <th>1</th>\n",
       "      <td>2</td>\n",
       "      <td>1</td>\n",
       "      <td>ryanfranco</td>\n",
       "      <td>Foot glass pretty audience hit themselves. Amo...</td>\n",
       "    </tr>\n",
       "    <tr>\n",
       "      <th>2</th>\n",
       "      <td>3</td>\n",
       "      <td>2</td>\n",
       "      <td>lorichen</td>\n",
       "      <td>Listen treat keep worry. Miss husband tax but ...</td>\n",
       "    </tr>\n",
       "    <tr>\n",
       "      <th>3</th>\n",
       "      <td>4</td>\n",
       "      <td>3</td>\n",
       "      <td>johnsonamanda</td>\n",
       "      <td>Finally month interesting blue could nature cu...</td>\n",
       "    </tr>\n",
       "    <tr>\n",
       "      <th>4</th>\n",
       "      <td>5</td>\n",
       "      <td>3</td>\n",
       "      <td>scotttamara</td>\n",
       "      <td>Nation purpose heavy give wait song will. List...</td>\n",
       "    </tr>\n",
       "    <tr>\n",
       "      <th>...</th>\n",
       "      <td>...</td>\n",
       "      <td>...</td>\n",
       "      <td>...</td>\n",
       "      <td>...</td>\n",
       "    </tr>\n",
       "    <tr>\n",
       "      <th>2788</th>\n",
       "      <td>2789</td>\n",
       "      <td>999</td>\n",
       "      <td>martinadam</td>\n",
       "      <td>Later hospital turn easy community. Fact same ...</td>\n",
       "    </tr>\n",
       "    <tr>\n",
       "      <th>2789</th>\n",
       "      <td>2790</td>\n",
       "      <td>1000</td>\n",
       "      <td>wknight</td>\n",
       "      <td>Change lose answer close pressure. Spend so now.</td>\n",
       "    </tr>\n",
       "    <tr>\n",
       "      <th>2790</th>\n",
       "      <td>2791</td>\n",
       "      <td>1000</td>\n",
       "      <td>carolrodriguez</td>\n",
       "      <td>Authority go who television entire hair guy po...</td>\n",
       "    </tr>\n",
       "    <tr>\n",
       "      <th>2791</th>\n",
       "      <td>2792</td>\n",
       "      <td>1000</td>\n",
       "      <td>wendy18</td>\n",
       "      <td>Or western offer wonder ask. More hear phone f...</td>\n",
       "    </tr>\n",
       "    <tr>\n",
       "      <th>2792</th>\n",
       "      <td>2793</td>\n",
       "      <td>1000</td>\n",
       "      <td>jarvispaul</td>\n",
       "      <td>Republican staff bit eat material measure plan...</td>\n",
       "    </tr>\n",
       "  </tbody>\n",
       "</table>\n",
       "<p>2793 rows × 4 columns</p>\n",
       "</div>"
      ],
      "text/plain": [
       "      review_id  book_id        username  \\\n",
       "0             1        1    brandtandrea   \n",
       "1             2        1      ryanfranco   \n",
       "2             3        2        lorichen   \n",
       "3             4        3   johnsonamanda   \n",
       "4             5        3     scotttamara   \n",
       "...         ...      ...             ...   \n",
       "2788       2789      999      martinadam   \n",
       "2789       2790     1000         wknight   \n",
       "2790       2791     1000  carolrodriguez   \n",
       "2791       2792     1000         wendy18   \n",
       "2792       2793     1000      jarvispaul   \n",
       "\n",
       "                                                   text  \n",
       "0     Mention society tell send professor analysis. ...  \n",
       "1     Foot glass pretty audience hit themselves. Amo...  \n",
       "2     Listen treat keep worry. Miss husband tax but ...  \n",
       "3     Finally month interesting blue could nature cu...  \n",
       "4     Nation purpose heavy give wait song will. List...  \n",
       "...                                                 ...  \n",
       "2788  Later hospital turn easy community. Fact same ...  \n",
       "2789   Change lose answer close pressure. Spend so now.  \n",
       "2790  Authority go who television entire hair guy po...  \n",
       "2791  Or western offer wonder ask. More hear phone f...  \n",
       "2792  Republican staff bit eat material measure plan...  \n",
       "\n",
       "[2793 rows x 4 columns]"
      ]
     },
     "execution_count": 4,
     "metadata": {},
     "output_type": "execute_result"
    }
   ],
   "source": [
    "query='''\n",
    "SELECT *\n",
    "FROM reviews\n",
    "'''\n",
    "\n",
    "pd.io.sql.read_sql(query, con = engine)\n"
   ]
  },
  {
   "cell_type": "code",
   "execution_count": 5,
   "metadata": {},
   "outputs": [
    {
     "data": {
      "text/html": [
       "<div>\n",
       "<style scoped>\n",
       "    .dataframe tbody tr th:only-of-type {\n",
       "        vertical-align: middle;\n",
       "    }\n",
       "\n",
       "    .dataframe tbody tr th {\n",
       "        vertical-align: top;\n",
       "    }\n",
       "\n",
       "    .dataframe thead th {\n",
       "        text-align: right;\n",
       "    }\n",
       "</style>\n",
       "<table border=\"1\" class=\"dataframe\">\n",
       "  <thead>\n",
       "    <tr style=\"text-align: right;\">\n",
       "      <th></th>\n",
       "      <th>publisher_id</th>\n",
       "      <th>publisher</th>\n",
       "    </tr>\n",
       "  </thead>\n",
       "  <tbody>\n",
       "    <tr>\n",
       "      <th>0</th>\n",
       "      <td>1</td>\n",
       "      <td>Ace</td>\n",
       "    </tr>\n",
       "    <tr>\n",
       "      <th>1</th>\n",
       "      <td>2</td>\n",
       "      <td>Ace Book</td>\n",
       "    </tr>\n",
       "    <tr>\n",
       "      <th>2</th>\n",
       "      <td>3</td>\n",
       "      <td>Ace Books</td>\n",
       "    </tr>\n",
       "    <tr>\n",
       "      <th>3</th>\n",
       "      <td>4</td>\n",
       "      <td>Ace Hardcover</td>\n",
       "    </tr>\n",
       "    <tr>\n",
       "      <th>4</th>\n",
       "      <td>5</td>\n",
       "      <td>Addison Wesley Publishing Company</td>\n",
       "    </tr>\n",
       "    <tr>\n",
       "      <th>...</th>\n",
       "      <td>...</td>\n",
       "      <td>...</td>\n",
       "    </tr>\n",
       "    <tr>\n",
       "      <th>335</th>\n",
       "      <td>336</td>\n",
       "      <td>Workman Publishing Company</td>\n",
       "    </tr>\n",
       "    <tr>\n",
       "      <th>336</th>\n",
       "      <td>337</td>\n",
       "      <td>Wyatt Book</td>\n",
       "    </tr>\n",
       "    <tr>\n",
       "      <th>337</th>\n",
       "      <td>338</td>\n",
       "      <td>Yale University Press</td>\n",
       "    </tr>\n",
       "    <tr>\n",
       "      <th>338</th>\n",
       "      <td>339</td>\n",
       "      <td>Yearling</td>\n",
       "    </tr>\n",
       "    <tr>\n",
       "      <th>339</th>\n",
       "      <td>340</td>\n",
       "      <td>Yearling Books</td>\n",
       "    </tr>\n",
       "  </tbody>\n",
       "</table>\n",
       "<p>340 rows × 2 columns</p>\n",
       "</div>"
      ],
      "text/plain": [
       "     publisher_id                          publisher\n",
       "0               1                                Ace\n",
       "1               2                           Ace Book\n",
       "2               3                          Ace Books\n",
       "3               4                      Ace Hardcover\n",
       "4               5  Addison Wesley Publishing Company\n",
       "..            ...                                ...\n",
       "335           336         Workman Publishing Company\n",
       "336           337                         Wyatt Book\n",
       "337           338              Yale University Press\n",
       "338           339                           Yearling\n",
       "339           340                     Yearling Books\n",
       "\n",
       "[340 rows x 2 columns]"
      ]
     },
     "execution_count": 5,
     "metadata": {},
     "output_type": "execute_result"
    }
   ],
   "source": [
    "query='''\n",
    "SELECT *\n",
    "FROM publishers\n",
    "'''\n",
    "\n",
    "pd.io.sql.read_sql(query, con = engine)\n"
   ]
  },
  {
   "cell_type": "markdown",
   "metadata": {},
   "source": [
    "__Número de libros publicados después del 1 de enero de 2000__"
   ]
  },
  {
   "cell_type": "code",
   "execution_count": 6,
   "metadata": {},
   "outputs": [
    {
     "data": {
      "text/html": [
       "<div>\n",
       "<style scoped>\n",
       "    .dataframe tbody tr th:only-of-type {\n",
       "        vertical-align: middle;\n",
       "    }\n",
       "\n",
       "    .dataframe tbody tr th {\n",
       "        vertical-align: top;\n",
       "    }\n",
       "\n",
       "    .dataframe thead th {\n",
       "        text-align: right;\n",
       "    }\n",
       "</style>\n",
       "<table border=\"1\" class=\"dataframe\">\n",
       "  <thead>\n",
       "    <tr style=\"text-align: right;\">\n",
       "      <th></th>\n",
       "      <th>count</th>\n",
       "    </tr>\n",
       "  </thead>\n",
       "  <tbody>\n",
       "    <tr>\n",
       "      <th>0</th>\n",
       "      <td>819</td>\n",
       "    </tr>\n",
       "  </tbody>\n",
       "</table>\n",
       "</div>"
      ],
      "text/plain": [
       "   count\n",
       "0    819"
      ]
     },
     "execution_count": 6,
     "metadata": {},
     "output_type": "execute_result"
    }
   ],
   "source": [
    "query='''\n",
    "SELECT count(*)\n",
    "FROM books\n",
    "WHERE publication_date > '2000-01-01' \n",
    "'''\n",
    "\n",
    "pd.io.sql.read_sql(query, con = engine)"
   ]
  },
  {
   "cell_type": "markdown",
   "metadata": {},
   "source": [
    "__Número de reseñas de usuarios y la calificación promedio para cada libro.__"
   ]
  },
  {
   "cell_type": "code",
   "execution_count": 7,
   "metadata": {},
   "outputs": [
    {
     "data": {
      "text/html": [
       "<div>\n",
       "<style scoped>\n",
       "    .dataframe tbody tr th:only-of-type {\n",
       "        vertical-align: middle;\n",
       "    }\n",
       "\n",
       "    .dataframe tbody tr th {\n",
       "        vertical-align: top;\n",
       "    }\n",
       "\n",
       "    .dataframe thead th {\n",
       "        text-align: right;\n",
       "    }\n",
       "</style>\n",
       "<table border=\"1\" class=\"dataframe\">\n",
       "  <thead>\n",
       "    <tr style=\"text-align: right;\">\n",
       "      <th></th>\n",
       "      <th>book_id</th>\n",
       "      <th>title</th>\n",
       "      <th>numero_reseñas</th>\n",
       "      <th>calificacion_promedio</th>\n",
       "    </tr>\n",
       "  </thead>\n",
       "  <tbody>\n",
       "    <tr>\n",
       "      <th>0</th>\n",
       "      <td>510</td>\n",
       "      <td>Phantom (Sword of Truth  #10)</td>\n",
       "      <td>2</td>\n",
       "      <td>3.500000</td>\n",
       "    </tr>\n",
       "    <tr>\n",
       "      <th>1</th>\n",
       "      <td>760</td>\n",
       "      <td>The Iliad/The Odyssey</td>\n",
       "      <td>2</td>\n",
       "      <td>4.000000</td>\n",
       "    </tr>\n",
       "    <tr>\n",
       "      <th>2</th>\n",
       "      <td>248</td>\n",
       "      <td>First Things First</td>\n",
       "      <td>2</td>\n",
       "      <td>4.000000</td>\n",
       "    </tr>\n",
       "    <tr>\n",
       "      <th>3</th>\n",
       "      <td>535</td>\n",
       "      <td>Ranma ½  Vol. 1 (Ranma ½ (US 2nd)  #1)</td>\n",
       "      <td>2</td>\n",
       "      <td>4.000000</td>\n",
       "    </tr>\n",
       "    <tr>\n",
       "      <th>4</th>\n",
       "      <td>930</td>\n",
       "      <td>To Green Angel Tower (Memory  Sorrow  and Thor...</td>\n",
       "      <td>2</td>\n",
       "      <td>4.500000</td>\n",
       "    </tr>\n",
       "    <tr>\n",
       "      <th>...</th>\n",
       "      <td>...</td>\n",
       "      <td>...</td>\n",
       "      <td>...</td>\n",
       "      <td>...</td>\n",
       "    </tr>\n",
       "    <tr>\n",
       "      <th>989</th>\n",
       "      <td>299</td>\n",
       "      <td>Harry Potter and the Chamber of Secrets (Harry...</td>\n",
       "      <td>480</td>\n",
       "      <td>4.287500</td>\n",
       "    </tr>\n",
       "    <tr>\n",
       "      <th>990</th>\n",
       "      <td>302</td>\n",
       "      <td>Harry Potter and the Prisoner of Azkaban (Harr...</td>\n",
       "      <td>492</td>\n",
       "      <td>4.414634</td>\n",
       "    </tr>\n",
       "    <tr>\n",
       "      <th>991</th>\n",
       "      <td>673</td>\n",
       "      <td>The Catcher in the Rye</td>\n",
       "      <td>516</td>\n",
       "      <td>3.825581</td>\n",
       "    </tr>\n",
       "    <tr>\n",
       "      <th>992</th>\n",
       "      <td>750</td>\n",
       "      <td>The Hobbit  or There and Back Again</td>\n",
       "      <td>528</td>\n",
       "      <td>4.125000</td>\n",
       "    </tr>\n",
       "    <tr>\n",
       "      <th>993</th>\n",
       "      <td>948</td>\n",
       "      <td>Twilight (Twilight  #1)</td>\n",
       "      <td>1120</td>\n",
       "      <td>3.662500</td>\n",
       "    </tr>\n",
       "  </tbody>\n",
       "</table>\n",
       "<p>994 rows × 4 columns</p>\n",
       "</div>"
      ],
      "text/plain": [
       "     book_id                                              title  \\\n",
       "0        510                      Phantom (Sword of Truth  #10)   \n",
       "1        760                              The Iliad/The Odyssey   \n",
       "2        248                                 First Things First   \n",
       "3        535             Ranma ½  Vol. 1 (Ranma ½ (US 2nd)  #1)   \n",
       "4        930  To Green Angel Tower (Memory  Sorrow  and Thor...   \n",
       "..       ...                                                ...   \n",
       "989      299  Harry Potter and the Chamber of Secrets (Harry...   \n",
       "990      302  Harry Potter and the Prisoner of Azkaban (Harr...   \n",
       "991      673                             The Catcher in the Rye   \n",
       "992      750                The Hobbit  or There and Back Again   \n",
       "993      948                            Twilight (Twilight  #1)   \n",
       "\n",
       "     numero_reseñas  calificacion_promedio  \n",
       "0                 2               3.500000  \n",
       "1                 2               4.000000  \n",
       "2                 2               4.000000  \n",
       "3                 2               4.000000  \n",
       "4                 2               4.500000  \n",
       "..              ...                    ...  \n",
       "989             480               4.287500  \n",
       "990             492               4.414634  \n",
       "991             516               3.825581  \n",
       "992             528               4.125000  \n",
       "993            1120               3.662500  \n",
       "\n",
       "[994 rows x 4 columns]"
      ]
     },
     "execution_count": 7,
     "metadata": {},
     "output_type": "execute_result"
    }
   ],
   "source": [
    "query='''\n",
    "SELECT\n",
    "    books.book_id,\n",
    "    books.title,\n",
    "    COUNT(reviews.review_id) AS numero_reseñas,\n",
    "    AVG(ratings.rating) AS calificacion_promedio\n",
    "FROM\n",
    "    books \n",
    "INNER JOIN reviews ON books.book_id = reviews.book_id\n",
    "INNER JOIN ratings ON books.book_id = ratings.book_id\n",
    "GROUP BY\n",
    "    books.book_id, books.title\n",
    "ORDER BY\n",
    "    numero_reseñas ASC\n",
    "'''\n",
    "\n",
    "pd.io.sql.read_sql(query, con = engine)"
   ]
  },
  {
   "cell_type": "markdown",
   "metadata": {},
   "source": [
    "__Editorial que ha publicado el mayor número de libros con más de 50 páginas.__"
   ]
  },
  {
   "cell_type": "code",
   "execution_count": 8,
   "metadata": {},
   "outputs": [
    {
     "data": {
      "text/html": [
       "<div>\n",
       "<style scoped>\n",
       "    .dataframe tbody tr th:only-of-type {\n",
       "        vertical-align: middle;\n",
       "    }\n",
       "\n",
       "    .dataframe tbody tr th {\n",
       "        vertical-align: top;\n",
       "    }\n",
       "\n",
       "    .dataframe thead th {\n",
       "        text-align: right;\n",
       "    }\n",
       "</style>\n",
       "<table border=\"1\" class=\"dataframe\">\n",
       "  <thead>\n",
       "    <tr style=\"text-align: right;\">\n",
       "      <th></th>\n",
       "      <th>publisher</th>\n",
       "      <th>total_books</th>\n",
       "    </tr>\n",
       "  </thead>\n",
       "  <tbody>\n",
       "    <tr>\n",
       "      <th>0</th>\n",
       "      <td>Penguin Books</td>\n",
       "      <td>42</td>\n",
       "    </tr>\n",
       "  </tbody>\n",
       "</table>\n",
       "</div>"
      ],
      "text/plain": [
       "       publisher  total_books\n",
       "0  Penguin Books           42"
      ]
     },
     "execution_count": 8,
     "metadata": {},
     "output_type": "execute_result"
    }
   ],
   "source": [
    "query='''\n",
    "SELECT \n",
    "    publishers.publisher, \n",
    "    COUNT(*) AS total_books\n",
    "FROM \n",
    "    books\n",
    "INNER JOIN publishers ON publishers.publisher_id = books.publisher_id\n",
    "WHERE \n",
    "    num_pages > 50\n",
    "GROUP BY \n",
    "    publishers.publisher\n",
    "ORDER BY \n",
    "    total_books DESC\n",
    "LIMIT\n",
    "    1;\n",
    "\n",
    "    \n",
    "'''\n",
    "\n",
    "pd.io.sql.read_sql(query, con = engine)"
   ]
  },
  {
   "cell_type": "markdown",
   "metadata": {},
   "source": [
    "__Autor que tiene la más alta calificación promedio del libro: libros con al menos 50 calificaciones.__"
   ]
  },
  {
   "cell_type": "code",
   "execution_count": 9,
   "metadata": {},
   "outputs": [
    {
     "data": {
      "text/html": [
       "<div>\n",
       "<style scoped>\n",
       "    .dataframe tbody tr th:only-of-type {\n",
       "        vertical-align: middle;\n",
       "    }\n",
       "\n",
       "    .dataframe tbody tr th {\n",
       "        vertical-align: top;\n",
       "    }\n",
       "\n",
       "    .dataframe thead th {\n",
       "        text-align: right;\n",
       "    }\n",
       "</style>\n",
       "<table border=\"1\" class=\"dataframe\">\n",
       "  <thead>\n",
       "    <tr style=\"text-align: right;\">\n",
       "      <th></th>\n",
       "      <th>author_id</th>\n",
       "      <th>author</th>\n",
       "      <th>avg_rating</th>\n",
       "      <th>total_rating</th>\n",
       "    </tr>\n",
       "  </thead>\n",
       "  <tbody>\n",
       "    <tr>\n",
       "      <th>0</th>\n",
       "      <td>236</td>\n",
       "      <td>J.K. Rowling/Mary GrandPré</td>\n",
       "      <td>4.287097</td>\n",
       "      <td>310</td>\n",
       "    </tr>\n",
       "  </tbody>\n",
       "</table>\n",
       "</div>"
      ],
      "text/plain": [
       "   author_id                      author  avg_rating  total_rating\n",
       "0        236  J.K. Rowling/Mary GrandPré    4.287097           310"
      ]
     },
     "execution_count": 9,
     "metadata": {},
     "output_type": "execute_result"
    }
   ],
   "source": [
    "query='''\n",
    "SELECT \n",
    "  authors.author_id,\n",
    "  authors.author,\n",
    "  AVG(ratings.rating) AS avg_rating,\n",
    "  COUNT(ratings.rating) AS total_rating\n",
    "FROM \n",
    "    authors\n",
    "    INNER JOIN books ON books.author_id = authors.author_id\n",
    "    INNER JOIN ratings ON ratings.book_id = books.book_id\n",
    "WHERE\n",
    "    ratings.book_id IN (\n",
    "        SELECT\n",
    "            book_id\n",
    "        FROM\n",
    "            ratings\n",
    "        GROUP BY\n",
    "            book_id\n",
    "        HAVING\n",
    "            COUNT(*) >= 50\n",
    "            )\n",
    "GROUP BY\n",
    "    authors.author_id,\n",
    "    authors.author\n",
    "ORDER BY\n",
    "    avg_rating DESC\n",
    "LIMIT\n",
    "    1;\n",
    "\n",
    "\n",
    "'''\n",
    "\n",
    "pd.io.sql.read_sql(query, con = engine)"
   ]
  },
  {
   "cell_type": "markdown",
   "metadata": {},
   "source": [
    "__Número promedio de reseñas de texto entre los usuarios que calificaron más de 50 libros.__"
   ]
  },
  {
   "cell_type": "code",
   "execution_count": 15,
   "metadata": {},
   "outputs": [
    {
     "data": {
      "text/html": [
       "<div>\n",
       "<style scoped>\n",
       "    .dataframe tbody tr th:only-of-type {\n",
       "        vertical-align: middle;\n",
       "    }\n",
       "\n",
       "    .dataframe tbody tr th {\n",
       "        vertical-align: top;\n",
       "    }\n",
       "\n",
       "    .dataframe thead th {\n",
       "        text-align: right;\n",
       "    }\n",
       "</style>\n",
       "<table border=\"1\" class=\"dataframe\">\n",
       "  <thead>\n",
       "    <tr style=\"text-align: right;\">\n",
       "      <th></th>\n",
       "      <th>avg_review_text</th>\n",
       "    </tr>\n",
       "  </thead>\n",
       "  <tbody>\n",
       "    <tr>\n",
       "      <th>0</th>\n",
       "      <td>24.333333</td>\n",
       "    </tr>\n",
       "  </tbody>\n",
       "</table>\n",
       "</div>"
      ],
      "text/plain": [
       "   avg_review_text\n",
       "0        24.333333"
      ]
     },
     "execution_count": 15,
     "metadata": {},
     "output_type": "execute_result"
    }
   ],
   "source": [
    "query='''\n",
    "\n",
    "SELECT AVG(cnt_reviews) AS avg_review_text\n",
    "FROM\n",
    "(\n",
    "  SELECT \n",
    "    reviews.username, \n",
    "    COUNT(reviews.text) AS cnt_reviews\n",
    "  FROM\n",
    "    (\n",
    "      SELECT\n",
    "          username\n",
    "      FROM \n",
    "          ratings\n",
    "      GROUP BY\n",
    "          username\n",
    "      HAVING COUNT(DISTINCT book_id) > 50) AS users_more_than_50_books\n",
    "INNER JOIN reviews ON users_more_than_50_books.username = reviews.username\n",
    "GROUP BY\n",
    "  reviews.username\n",
    ") AS final_result;\n",
    "\n",
    "\n",
    "'''\n",
    "\n",
    "pd.io.sql.read_sql(query, con = engine)"
   ]
  }
 ],
 "metadata": {
  "ExecuteTimeLog": [
   {
    "duration": 561,
    "start_time": "2024-11-28T02:08:46.930Z"
   },
   {
    "duration": 16,
    "start_time": "2024-11-28T02:13:48.820Z"
   },
   {
    "duration": 44,
    "start_time": "2024-11-28T02:14:29.135Z"
   },
   {
    "duration": 12,
    "start_time": "2024-11-28T02:28:59.427Z"
   },
   {
    "duration": 54,
    "start_time": "2024-11-28T02:29:41.232Z"
   },
   {
    "duration": 20,
    "start_time": "2024-11-28T02:30:16.950Z"
   },
   {
    "duration": 11,
    "start_time": "2024-11-28T02:30:52.074Z"
   },
   {
    "duration": 9,
    "start_time": "2024-11-28T02:36:22.942Z"
   },
   {
    "duration": 9,
    "start_time": "2024-11-28T02:43:38.774Z"
   },
   {
    "duration": 21,
    "start_time": "2024-11-28T02:46:22.443Z"
   },
   {
    "duration": 9,
    "start_time": "2024-11-28T02:47:06.929Z"
   },
   {
    "duration": 14,
    "start_time": "2024-11-28T02:47:31.448Z"
   },
   {
    "duration": 421,
    "start_time": "2024-11-28T02:48:55.016Z"
   },
   {
    "duration": 10,
    "start_time": "2024-11-28T02:49:30.779Z"
   },
   {
    "duration": 107,
    "start_time": "2024-11-28T02:51:13.269Z"
   },
   {
    "duration": 26,
    "start_time": "2024-11-28T03:02:24.064Z"
   },
   {
    "duration": 101,
    "start_time": "2024-11-28T03:03:48.724Z"
   },
   {
    "duration": 101,
    "start_time": "2024-11-28T03:04:07.418Z"
   },
   {
    "duration": 101,
    "start_time": "2024-11-28T03:08:14.222Z"
   },
   {
    "duration": 12,
    "start_time": "2024-11-28T03:08:21.939Z"
   },
   {
    "duration": 99,
    "start_time": "2024-11-28T03:09:47.299Z"
   },
   {
    "duration": 102,
    "start_time": "2024-11-28T03:12:15.677Z"
   },
   {
    "duration": 25,
    "start_time": "2024-11-28T03:13:26.796Z"
   },
   {
    "duration": 108,
    "start_time": "2024-11-28T03:16:53.170Z"
   },
   {
    "duration": 102,
    "start_time": "2024-11-28T03:17:34.451Z"
   },
   {
    "duration": 10,
    "start_time": "2024-11-28T03:18:12.908Z"
   },
   {
    "duration": 168,
    "start_time": "2024-11-28T14:09:01.651Z"
   },
   {
    "duration": 403,
    "start_time": "2024-11-28T14:09:12.832Z"
   },
   {
    "duration": 11,
    "start_time": "2024-11-28T14:09:13.237Z"
   },
   {
    "duration": 20,
    "start_time": "2024-11-28T14:09:13.250Z"
   },
   {
    "duration": 15,
    "start_time": "2024-11-28T14:09:13.272Z"
   },
   {
    "duration": 21,
    "start_time": "2024-11-28T14:09:13.288Z"
   },
   {
    "duration": 8,
    "start_time": "2024-11-28T14:09:13.310Z"
   },
   {
    "duration": 25,
    "start_time": "2024-11-28T14:09:13.320Z"
   },
   {
    "duration": 10,
    "start_time": "2024-11-28T14:09:13.346Z"
   },
   {
    "duration": 39,
    "start_time": "2024-11-28T14:09:34.854Z"
   },
   {
    "duration": 12,
    "start_time": "2024-11-28T14:10:27.651Z"
   },
   {
    "duration": 606,
    "start_time": "2024-11-28T14:18:37.091Z"
   },
   {
    "duration": 103,
    "start_time": "2024-11-28T14:21:27.480Z"
   },
   {
    "duration": 105,
    "start_time": "2024-11-28T14:21:46.712Z"
   },
   {
    "duration": 103,
    "start_time": "2024-11-28T14:22:09.248Z"
   },
   {
    "duration": 100,
    "start_time": "2024-11-28T14:22:29.629Z"
   },
   {
    "duration": 101,
    "start_time": "2024-11-28T14:24:20.522Z"
   },
   {
    "duration": 100,
    "start_time": "2024-11-28T14:24:46.086Z"
   },
   {
    "duration": 103,
    "start_time": "2024-11-28T14:25:13.117Z"
   },
   {
    "duration": 105,
    "start_time": "2024-11-28T14:28:59.568Z"
   },
   {
    "duration": 100,
    "start_time": "2024-11-28T14:29:29.131Z"
   },
   {
    "duration": 104,
    "start_time": "2024-11-28T14:30:00.580Z"
   },
   {
    "duration": 10,
    "start_time": "2024-11-28T14:30:23.873Z"
   },
   {
    "duration": 103,
    "start_time": "2024-11-28T14:33:01.568Z"
   },
   {
    "duration": 399,
    "start_time": "2024-11-28T14:33:32.462Z"
   },
   {
    "duration": 12,
    "start_time": "2024-11-28T14:33:32.864Z"
   },
   {
    "duration": 20,
    "start_time": "2024-11-28T14:33:32.877Z"
   },
   {
    "duration": 15,
    "start_time": "2024-11-28T14:33:32.899Z"
   },
   {
    "duration": 10,
    "start_time": "2024-11-28T14:33:32.916Z"
   },
   {
    "duration": 9,
    "start_time": "2024-11-28T14:33:32.928Z"
   },
   {
    "duration": 25,
    "start_time": "2024-11-28T14:33:32.938Z"
   },
   {
    "duration": 635,
    "start_time": "2024-11-28T14:33:32.964Z"
   },
   {
    "duration": 111,
    "start_time": "2024-11-28T14:34:23.278Z"
   },
   {
    "duration": 106,
    "start_time": "2024-11-28T14:35:11.708Z"
   },
   {
    "duration": 101,
    "start_time": "2024-11-28T14:35:40.618Z"
   },
   {
    "duration": 103,
    "start_time": "2024-11-28T14:39:22.395Z"
   },
   {
    "duration": 107,
    "start_time": "2024-11-28T14:39:56.907Z"
   },
   {
    "duration": 103,
    "start_time": "2024-11-28T14:40:29.649Z"
   },
   {
    "duration": 17,
    "start_time": "2024-11-28T14:41:04.012Z"
   },
   {
    "duration": 16,
    "start_time": "2024-11-28T14:41:26.147Z"
   },
   {
    "duration": 17,
    "start_time": "2024-11-28T14:41:33.714Z"
   },
   {
    "duration": 13,
    "start_time": "2024-11-28T14:41:55.747Z"
   },
   {
    "duration": 154,
    "start_time": "2024-11-28T15:56:37.464Z"
   },
   {
    "duration": 397,
    "start_time": "2024-11-28T15:56:46.689Z"
   },
   {
    "duration": 10,
    "start_time": "2024-11-28T15:56:47.088Z"
   },
   {
    "duration": 19,
    "start_time": "2024-11-28T15:56:47.099Z"
   },
   {
    "duration": 13,
    "start_time": "2024-11-28T15:56:47.120Z"
   },
   {
    "duration": 12,
    "start_time": "2024-11-28T15:56:47.135Z"
   },
   {
    "duration": 7,
    "start_time": "2024-11-28T15:56:47.148Z"
   },
   {
    "duration": 23,
    "start_time": "2024-11-28T15:56:47.156Z"
   },
   {
    "duration": 647,
    "start_time": "2024-11-28T15:56:47.181Z"
   },
   {
    "duration": 8,
    "start_time": "2024-11-28T15:56:54.918Z"
   },
   {
    "duration": 11,
    "start_time": "2024-11-28T15:57:18.752Z"
   },
   {
    "duration": 100,
    "start_time": "2024-11-28T15:59:34.236Z"
   },
   {
    "duration": 102,
    "start_time": "2024-11-28T16:00:22.286Z"
   },
   {
    "duration": 104,
    "start_time": "2024-11-28T16:00:29.357Z"
   },
   {
    "duration": 105,
    "start_time": "2024-11-28T16:02:08.180Z"
   },
   {
    "duration": 98,
    "start_time": "2024-11-28T16:02:26.774Z"
   },
   {
    "duration": 109,
    "start_time": "2024-11-28T16:03:03.156Z"
   },
   {
    "duration": 100,
    "start_time": "2024-11-28T16:10:38.439Z"
   },
   {
    "duration": 12,
    "start_time": "2024-11-28T16:12:06.493Z"
   },
   {
    "duration": 11,
    "start_time": "2024-11-28T16:12:38.933Z"
   },
   {
    "duration": 13,
    "start_time": "2024-11-28T16:13:42.088Z"
   },
   {
    "duration": 15,
    "start_time": "2024-11-28T16:14:04.565Z"
   },
   {
    "duration": 14,
    "start_time": "2024-11-28T16:14:40.510Z"
   },
   {
    "duration": 24,
    "start_time": "2024-11-28T16:18:03.465Z"
   },
   {
    "duration": 2,
    "start_time": "2024-11-28T16:19:46.142Z"
   },
   {
    "duration": 12,
    "start_time": "2024-11-28T16:19:51.589Z"
   },
   {
    "duration": 10,
    "start_time": "2024-11-28T16:21:41.138Z"
   },
   {
    "duration": 11,
    "start_time": "2024-11-28T16:21:53.496Z"
   },
   {
    "duration": 107,
    "start_time": "2024-11-28T16:22:38.043Z"
   },
   {
    "duration": 9,
    "start_time": "2024-11-28T16:25:19.680Z"
   },
   {
    "duration": 102,
    "start_time": "2024-11-28T16:25:58.502Z"
   },
   {
    "duration": 97,
    "start_time": "2024-11-28T16:26:08.957Z"
   },
   {
    "duration": 9,
    "start_time": "2024-11-28T16:26:34.520Z"
   },
   {
    "duration": 102,
    "start_time": "2024-11-28T16:31:52.317Z"
   },
   {
    "duration": 100,
    "start_time": "2024-11-28T16:33:57.374Z"
   },
   {
    "duration": 99,
    "start_time": "2024-11-28T16:34:28.138Z"
   },
   {
    "duration": 9,
    "start_time": "2024-11-28T16:35:10.496Z"
   },
   {
    "duration": 103,
    "start_time": "2024-11-28T16:35:42.096Z"
   },
   {
    "duration": 108,
    "start_time": "2024-11-28T16:36:00.619Z"
   },
   {
    "duration": 98,
    "start_time": "2024-11-28T16:36:14.441Z"
   },
   {
    "duration": 9,
    "start_time": "2024-11-28T16:36:22.139Z"
   },
   {
    "duration": 13,
    "start_time": "2024-11-28T16:40:27.916Z"
   },
   {
    "duration": 12,
    "start_time": "2024-11-28T16:40:35.447Z"
   },
   {
    "duration": 104,
    "start_time": "2024-11-28T16:44:12.248Z"
   },
   {
    "duration": 103,
    "start_time": "2024-11-28T16:44:38.054Z"
   },
   {
    "duration": 101,
    "start_time": "2024-11-28T16:44:46.750Z"
   },
   {
    "duration": 101,
    "start_time": "2024-11-28T16:45:55.322Z"
   },
   {
    "duration": 99,
    "start_time": "2024-11-28T16:47:06.170Z"
   },
   {
    "duration": 100,
    "start_time": "2024-11-28T16:48:07.365Z"
   },
   {
    "duration": 19,
    "start_time": "2024-11-28T16:48:14.043Z"
   },
   {
    "duration": 137,
    "start_time": "2024-11-28T16:49:08.727Z"
   },
   {
    "duration": 106,
    "start_time": "2024-11-28T16:49:26.998Z"
   },
   {
    "duration": 109,
    "start_time": "2024-11-28T16:49:41.107Z"
   },
   {
    "duration": 16,
    "start_time": "2024-11-28T16:49:49.576Z"
   },
   {
    "duration": 16,
    "start_time": "2024-11-28T16:50:44.299Z"
   },
   {
    "duration": 17,
    "start_time": "2024-11-28T16:51:18.675Z"
   },
   {
    "duration": 77,
    "start_time": "2024-11-28T16:54:49.474Z"
   },
   {
    "duration": 16,
    "start_time": "2024-11-28T16:55:00.990Z"
   },
   {
    "duration": 100,
    "start_time": "2024-11-28T16:55:50.410Z"
   },
   {
    "duration": 13,
    "start_time": "2024-11-28T16:56:02.726Z"
   },
   {
    "duration": 12,
    "start_time": "2024-11-28T16:56:31.662Z"
   },
   {
    "duration": 12,
    "start_time": "2024-11-28T16:56:40.650Z"
   },
   {
    "duration": 106,
    "start_time": "2024-11-28T16:58:41.938Z"
   },
   {
    "duration": 97,
    "start_time": "2024-11-28T16:58:57.168Z"
   },
   {
    "duration": 99,
    "start_time": "2024-11-28T16:59:00.513Z"
   },
   {
    "duration": 12,
    "start_time": "2024-11-28T16:59:12.769Z"
   },
   {
    "duration": 101,
    "start_time": "2024-11-28T17:00:32.134Z"
   },
   {
    "duration": 9,
    "start_time": "2024-11-28T17:08:40.424Z"
   },
   {
    "duration": 13,
    "start_time": "2024-11-28T17:09:01.352Z"
   },
   {
    "duration": 13,
    "start_time": "2024-11-28T17:11:16.488Z"
   },
   {
    "duration": 13,
    "start_time": "2024-11-28T17:15:46.212Z"
   },
   {
    "duration": 103,
    "start_time": "2024-11-28T17:16:15.384Z"
   },
   {
    "duration": 8,
    "start_time": "2024-11-28T17:16:42.326Z"
   },
   {
    "duration": 13,
    "start_time": "2024-11-28T17:16:58.088Z"
   },
   {
    "duration": 101,
    "start_time": "2024-11-28T17:18:15.298Z"
   },
   {
    "duration": 110,
    "start_time": "2024-11-28T17:18:24.468Z"
   },
   {
    "duration": 102,
    "start_time": "2024-11-28T17:18:54.820Z"
   },
   {
    "duration": 16,
    "start_time": "2024-11-28T17:19:08.575Z"
   },
   {
    "duration": 102,
    "start_time": "2024-11-28T17:19:44.877Z"
   },
   {
    "duration": 101,
    "start_time": "2024-11-28T17:19:56.023Z"
   },
   {
    "duration": 15,
    "start_time": "2024-11-28T17:20:01.369Z"
   },
   {
    "duration": 15,
    "start_time": "2024-11-28T17:20:38.174Z"
   },
   {
    "duration": 102,
    "start_time": "2024-11-28T17:23:41.118Z"
   },
   {
    "duration": 103,
    "start_time": "2024-11-28T17:26:01.322Z"
   },
   {
    "duration": 103,
    "start_time": "2024-11-28T17:28:38.395Z"
   },
   {
    "duration": 102,
    "start_time": "2024-11-28T17:32:06.207Z"
   },
   {
    "duration": 12,
    "start_time": "2024-11-28T17:32:36.793Z"
   },
   {
    "duration": 100,
    "start_time": "2024-11-28T17:39:36.837Z"
   },
   {
    "duration": 102,
    "start_time": "2024-11-28T17:39:46.281Z"
   },
   {
    "duration": 99,
    "start_time": "2024-11-28T17:40:16.669Z"
   },
   {
    "duration": 103,
    "start_time": "2024-11-28T17:41:02.120Z"
   },
   {
    "duration": 103,
    "start_time": "2024-11-28T17:41:53.834Z"
   },
   {
    "duration": 103,
    "start_time": "2024-11-28T17:42:01.341Z"
   },
   {
    "duration": 106,
    "start_time": "2024-11-28T17:42:14.119Z"
   },
   {
    "duration": 102,
    "start_time": "2024-11-28T17:42:24.446Z"
   },
   {
    "duration": 101,
    "start_time": "2024-11-28T17:42:41.641Z"
   },
   {
    "duration": 100,
    "start_time": "2024-11-28T17:42:58.656Z"
   },
   {
    "duration": 95,
    "start_time": "2024-11-28T17:43:37.733Z"
   },
   {
    "duration": 16,
    "start_time": "2024-11-28T17:44:15.615Z"
   },
   {
    "duration": 116,
    "start_time": "2024-11-28T17:45:12.140Z"
   },
   {
    "duration": 99,
    "start_time": "2024-11-28T17:45:15.364Z"
   },
   {
    "duration": 17,
    "start_time": "2024-11-28T17:45:50.941Z"
   },
   {
    "duration": 100,
    "start_time": "2024-11-28T17:48:08.549Z"
   },
   {
    "duration": 104,
    "start_time": "2024-11-28T17:50:10.301Z"
   },
   {
    "duration": 99,
    "start_time": "2024-11-28T17:50:53.772Z"
   },
   {
    "duration": 11,
    "start_time": "2024-11-28T17:51:43.739Z"
   },
   {
    "duration": 106,
    "start_time": "2024-11-28T17:53:57.444Z"
   },
   {
    "duration": 14,
    "start_time": "2024-11-28T18:04:40.590Z"
   },
   {
    "duration": 12,
    "start_time": "2024-11-28T18:06:14.034Z"
   },
   {
    "duration": 110,
    "start_time": "2024-11-28T18:11:37.679Z"
   },
   {
    "duration": 101,
    "start_time": "2024-11-28T18:17:29.408Z"
   },
   {
    "duration": 103,
    "start_time": "2024-11-28T18:18:38.270Z"
   },
   {
    "duration": 103,
    "start_time": "2024-11-28T18:19:29.523Z"
   },
   {
    "duration": 102,
    "start_time": "2024-11-28T18:24:08.979Z"
   },
   {
    "duration": 100,
    "start_time": "2024-11-28T18:24:31.389Z"
   },
   {
    "duration": 105,
    "start_time": "2024-11-28T18:24:43.371Z"
   },
   {
    "duration": 100,
    "start_time": "2024-11-28T18:24:50.132Z"
   },
   {
    "duration": 12,
    "start_time": "2024-11-28T18:25:05.697Z"
   },
   {
    "duration": 10,
    "start_time": "2024-11-28T18:25:21.890Z"
   },
   {
    "duration": 100,
    "start_time": "2024-11-28T18:27:09.618Z"
   },
   {
    "duration": 13,
    "start_time": "2024-11-28T18:29:35.319Z"
   },
   {
    "duration": 100,
    "start_time": "2024-11-28T18:30:15.332Z"
   },
   {
    "duration": 14,
    "start_time": "2024-11-28T18:30:28.810Z"
   },
   {
    "duration": 13,
    "start_time": "2024-11-28T18:31:07.513Z"
   },
   {
    "duration": 28,
    "start_time": "2024-11-28T18:33:40.645Z"
   },
   {
    "duration": 107,
    "start_time": "2024-11-28T18:35:43.204Z"
   },
   {
    "duration": 99,
    "start_time": "2024-11-28T18:36:08.622Z"
   },
   {
    "duration": 96,
    "start_time": "2024-11-28T18:36:22.747Z"
   },
   {
    "duration": 24,
    "start_time": "2024-11-28T18:37:37.372Z"
   },
   {
    "duration": 101,
    "start_time": "2024-11-28T18:38:15.080Z"
   },
   {
    "duration": 96,
    "start_time": "2024-11-28T18:38:24.250Z"
   },
   {
    "duration": 27,
    "start_time": "2024-11-28T18:38:40.391Z"
   },
   {
    "duration": 104,
    "start_time": "2024-11-28T18:39:24.484Z"
   },
   {
    "duration": 24,
    "start_time": "2024-11-28T18:41:18.194Z"
   },
   {
    "duration": 101,
    "start_time": "2024-11-28T18:42:25.243Z"
   },
   {
    "duration": 23,
    "start_time": "2024-11-28T18:42:35.198Z"
   },
   {
    "duration": 100,
    "start_time": "2024-11-28T18:43:12.179Z"
   },
   {
    "duration": 98,
    "start_time": "2024-11-28T18:43:21.092Z"
   },
   {
    "duration": 25,
    "start_time": "2024-11-28T18:43:25.157Z"
   },
   {
    "duration": 17,
    "start_time": "2024-11-28T18:47:02.265Z"
   },
   {
    "duration": 167,
    "start_time": "2024-11-28T20:53:17.898Z"
   },
   {
    "duration": 496,
    "start_time": "2024-11-28T20:53:30.736Z"
   },
   {
    "duration": 17,
    "start_time": "2024-11-28T20:53:31.234Z"
   },
   {
    "duration": 37,
    "start_time": "2024-11-28T20:53:31.256Z"
   },
   {
    "duration": 18,
    "start_time": "2024-11-28T20:53:31.300Z"
   },
   {
    "duration": 12,
    "start_time": "2024-11-28T20:53:31.320Z"
   },
   {
    "duration": 10,
    "start_time": "2024-11-28T20:53:31.334Z"
   },
   {
    "duration": 31,
    "start_time": "2024-11-28T20:53:31.346Z"
   },
   {
    "duration": 17,
    "start_time": "2024-11-28T20:53:31.379Z"
   },
   {
    "duration": 719,
    "start_time": "2024-11-28T20:53:31.398Z"
   },
   {
    "duration": 109,
    "start_time": "2024-11-28T20:53:54.460Z"
   },
   {
    "duration": 112,
    "start_time": "2024-11-28T20:54:23.625Z"
   },
   {
    "duration": 19,
    "start_time": "2024-11-28T20:54:48.735Z"
   },
   {
    "duration": 16,
    "start_time": "2024-11-28T20:57:23.539Z"
   },
   {
    "duration": 20,
    "start_time": "2024-11-28T20:59:39.794Z"
   },
   {
    "duration": 109,
    "start_time": "2024-11-28T21:03:22.264Z"
   },
   {
    "duration": 124,
    "start_time": "2024-11-28T21:03:51.878Z"
   },
   {
    "duration": 106,
    "start_time": "2024-11-28T21:05:20.080Z"
   },
   {
    "duration": 111,
    "start_time": "2024-11-28T21:05:48.929Z"
   },
   {
    "duration": 52,
    "start_time": "2024-11-28T21:17:42.261Z"
   },
   {
    "duration": 52,
    "start_time": "2024-11-28T21:23:54.394Z"
   },
   {
    "duration": 53,
    "start_time": "2024-11-28T21:24:44.661Z"
   },
   {
    "duration": 51,
    "start_time": "2024-11-28T21:25:54.551Z"
   },
   {
    "duration": 110,
    "start_time": "2024-11-28T21:26:50.818Z"
   },
   {
    "duration": 51,
    "start_time": "2024-11-28T21:27:02.557Z"
   },
   {
    "duration": 104,
    "start_time": "2024-11-28T21:33:35.677Z"
   },
   {
    "duration": 104,
    "start_time": "2024-11-28T21:34:11.394Z"
   },
   {
    "duration": 103,
    "start_time": "2024-11-28T21:34:41.350Z"
   },
   {
    "duration": 107,
    "start_time": "2024-11-28T21:35:21.512Z"
   },
   {
    "duration": 50,
    "start_time": "2024-11-28T21:35:39.209Z"
   },
   {
    "duration": 101,
    "start_time": "2024-11-28T21:37:08.407Z"
   },
   {
    "duration": 103,
    "start_time": "2024-11-28T21:37:15.339Z"
   },
   {
    "duration": 116,
    "start_time": "2024-11-28T21:37:24.506Z"
   },
   {
    "duration": 105,
    "start_time": "2024-11-28T21:37:30.785Z"
   },
   {
    "duration": 103,
    "start_time": "2024-11-28T21:37:40.880Z"
   },
   {
    "duration": 51,
    "start_time": "2024-11-28T21:38:00.255Z"
   },
   {
    "duration": 105,
    "start_time": "2024-11-28T21:38:59.814Z"
   },
   {
    "duration": 108,
    "start_time": "2024-11-28T21:40:00.733Z"
   },
   {
    "duration": 51,
    "start_time": "2024-11-28T21:40:17.890Z"
   },
   {
    "duration": 51,
    "start_time": "2024-11-28T21:42:53.568Z"
   },
   {
    "duration": 107,
    "start_time": "2024-11-28T21:43:06.038Z"
   },
   {
    "duration": 50,
    "start_time": "2024-11-28T21:43:20.867Z"
   },
   {
    "duration": 49,
    "start_time": "2024-11-28T21:44:04.675Z"
   },
   {
    "duration": 48,
    "start_time": "2024-11-28T21:45:33.558Z"
   },
   {
    "duration": 9,
    "start_time": "2024-11-28T21:51:49.190Z"
   },
   {
    "duration": 9,
    "start_time": "2024-11-28T21:51:57.865Z"
   },
   {
    "duration": 103,
    "start_time": "2024-11-28T21:53:19.878Z"
   },
   {
    "duration": 27,
    "start_time": "2024-11-28T21:53:29.290Z"
   },
   {
    "duration": 105,
    "start_time": "2024-11-28T21:56:25.323Z"
   },
   {
    "duration": 105,
    "start_time": "2024-11-28T21:56:51.949Z"
   },
   {
    "duration": 114,
    "start_time": "2024-11-28T21:57:07.631Z"
   },
   {
    "duration": 17,
    "start_time": "2024-11-28T21:57:52.383Z"
   },
   {
    "duration": 10,
    "start_time": "2024-11-28T22:01:15.407Z"
   },
   {
    "duration": 12,
    "start_time": "2024-11-28T22:01:22.874Z"
   },
   {
    "duration": 10,
    "start_time": "2024-11-28T22:01:40.385Z"
   },
   {
    "duration": 6,
    "start_time": "2024-11-29T00:24:39.555Z"
   },
   {
    "duration": 427,
    "start_time": "2024-11-29T00:25:45.645Z"
   },
   {
    "duration": 11,
    "start_time": "2024-11-29T00:25:46.074Z"
   },
   {
    "duration": 20,
    "start_time": "2024-11-29T00:25:46.087Z"
   },
   {
    "duration": 15,
    "start_time": "2024-11-29T00:25:46.110Z"
   },
   {
    "duration": 12,
    "start_time": "2024-11-29T00:25:46.127Z"
   },
   {
    "duration": 9,
    "start_time": "2024-11-29T00:25:46.141Z"
   },
   {
    "duration": 25,
    "start_time": "2024-11-29T00:25:46.151Z"
   },
   {
    "duration": 10,
    "start_time": "2024-11-29T00:25:46.177Z"
   },
   {
    "duration": 13,
    "start_time": "2024-11-29T00:25:46.189Z"
   },
   {
    "duration": 47,
    "start_time": "2024-11-29T00:25:46.205Z"
   },
   {
    "duration": 15,
    "start_time": "2024-11-29T00:26:18.094Z"
   },
   {
    "duration": 16,
    "start_time": "2024-11-29T00:36:31.862Z"
   },
   {
    "duration": 173,
    "start_time": "2024-11-29T01:13:43.532Z"
   },
   {
    "duration": 402,
    "start_time": "2024-11-29T01:13:53.965Z"
   },
   {
    "duration": 12,
    "start_time": "2024-11-29T01:13:54.369Z"
   },
   {
    "duration": 20,
    "start_time": "2024-11-29T01:13:54.382Z"
   },
   {
    "duration": 15,
    "start_time": "2024-11-29T01:13:54.404Z"
   },
   {
    "duration": 10,
    "start_time": "2024-11-29T01:13:54.422Z"
   },
   {
    "duration": 8,
    "start_time": "2024-11-29T01:13:54.433Z"
   },
   {
    "duration": 25,
    "start_time": "2024-11-29T01:13:54.443Z"
   },
   {
    "duration": 9,
    "start_time": "2024-11-29T01:13:54.470Z"
   },
   {
    "duration": 14,
    "start_time": "2024-11-29T01:13:54.480Z"
   },
   {
    "duration": 48,
    "start_time": "2024-11-29T01:13:54.495Z"
   },
   {
    "duration": 638,
    "start_time": "2024-11-29T01:21:44.004Z"
   },
   {
    "duration": 405,
    "start_time": "2024-11-29T01:21:51.751Z"
   },
   {
    "duration": 12,
    "start_time": "2024-11-29T01:21:52.158Z"
   },
   {
    "duration": 20,
    "start_time": "2024-11-29T01:21:52.172Z"
   },
   {
    "duration": 15,
    "start_time": "2024-11-29T01:21:52.195Z"
   },
   {
    "duration": 10,
    "start_time": "2024-11-29T01:21:52.211Z"
   },
   {
    "duration": 8,
    "start_time": "2024-11-29T01:21:52.223Z"
   },
   {
    "duration": 25,
    "start_time": "2024-11-29T01:21:52.232Z"
   },
   {
    "duration": 10,
    "start_time": "2024-11-29T01:21:52.258Z"
   },
   {
    "duration": 14,
    "start_time": "2024-11-29T01:21:52.269Z"
   },
   {
    "duration": 626,
    "start_time": "2024-11-29T01:21:52.285Z"
   },
   {
    "duration": 102,
    "start_time": "2024-11-29T01:22:21.879Z"
   },
   {
    "duration": 100,
    "start_time": "2024-11-29T01:22:29.405Z"
   },
   {
    "duration": 115,
    "start_time": "2024-11-29T01:25:41.295Z"
   },
   {
    "duration": 102,
    "start_time": "2024-11-29T01:26:54.067Z"
   },
   {
    "duration": 104,
    "start_time": "2024-11-29T01:27:45.110Z"
   },
   {
    "duration": 419,
    "start_time": "2024-11-29T01:28:03.005Z"
   },
   {
    "duration": 16,
    "start_time": "2024-11-29T01:28:03.426Z"
   },
   {
    "duration": 20,
    "start_time": "2024-11-29T01:28:03.444Z"
   },
   {
    "duration": 18,
    "start_time": "2024-11-29T01:28:03.468Z"
   },
   {
    "duration": 11,
    "start_time": "2024-11-29T01:28:03.488Z"
   },
   {
    "duration": 12,
    "start_time": "2024-11-29T01:28:03.501Z"
   },
   {
    "duration": 25,
    "start_time": "2024-11-29T01:28:03.515Z"
   },
   {
    "duration": 9,
    "start_time": "2024-11-29T01:28:03.542Z"
   },
   {
    "duration": 14,
    "start_time": "2024-11-29T01:28:03.553Z"
   },
   {
    "duration": 633,
    "start_time": "2024-11-29T01:28:03.570Z"
   },
   {
    "duration": 16,
    "start_time": "2024-11-29T01:30:13.269Z"
   },
   {
    "duration": 22,
    "start_time": "2024-11-29T01:30:49.481Z"
   },
   {
    "duration": 107,
    "start_time": "2024-11-29T01:33:00.649Z"
   },
   {
    "duration": 17,
    "start_time": "2024-11-29T01:36:18.009Z"
   },
   {
    "duration": 16,
    "start_time": "2024-11-29T01:39:59.926Z"
   }
  ],
  "kernelspec": {
   "display_name": "Python 3 (ipykernel)",
   "language": "python",
   "name": "python3"
  },
  "language_info": {
   "codemirror_mode": {
    "name": "ipython",
    "version": 3
   },
   "file_extension": ".py",
   "mimetype": "text/x-python",
   "name": "python",
   "nbconvert_exporter": "python",
   "pygments_lexer": "ipython3",
   "version": "3.9.19"
  },
  "toc": {
   "base_numbering": 1,
   "nav_menu": {},
   "number_sections": true,
   "sideBar": true,
   "skip_h1_title": true,
   "title_cell": "Table of Contents",
   "title_sidebar": "Contents",
   "toc_cell": false,
   "toc_position": {},
   "toc_section_display": true,
   "toc_window_display": false
  }
 },
 "nbformat": 4,
 "nbformat_minor": 2
}
